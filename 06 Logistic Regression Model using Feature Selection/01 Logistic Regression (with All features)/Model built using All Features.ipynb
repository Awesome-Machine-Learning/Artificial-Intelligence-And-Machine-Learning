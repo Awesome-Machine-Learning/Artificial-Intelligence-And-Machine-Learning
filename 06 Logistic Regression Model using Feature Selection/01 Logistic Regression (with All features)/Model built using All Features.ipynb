{
 "cells": [
  {
   "cell_type": "markdown",
   "metadata": {},
   "source": [
    "---\n",
    "<h1 align='center'>Logistic Regression</h1>\n",
    "\n",
    "---"
   ]
  },
  {
   "cell_type": "markdown",
   "metadata": {},
   "source": [
    "#### we will evaluate a LogisticRegression model using all the available features.\n",
    "\n",
    "#### The model is fit on the training dataset and evaluated on the test dataset.\n",
    "\n",
    "#### The complete example is listed below."
   ]
  },
  {
   "cell_type": "code",
   "execution_count": 18,
   "metadata": {},
   "outputs": [
    {
     "name": "stdout",
     "output_type": "stream",
     "text": [
      "Accuracy : 72.09\n"
     ]
    }
   ],
   "source": [
    "import numpy as np\n",
    "import pandas as pd\n",
    "from sklearn.preprocessing import OrdinalEncoder\n",
    "from sklearn.preprocessing import LabelEncoder\n",
    "from sklearn.model_selection import train_test_split\n",
    "from sklearn.linear_model import LogisticRegression\n",
    "from sklearn.metrics import accuracy_score\n",
    "\n",
    "\n",
    "# load dataset\n",
    "# create function for load dataset\n",
    "def load_dataset(filename):\n",
    "    # load dataset as a pandas fataframe\n",
    "    data=pd.read_csv(filename,header=None)\n",
    "    \n",
    "    # retrieve numpy  array\n",
    "    dataset=data.values\n",
    "    \n",
    "    # Split into Input(X) and output(y) variables\n",
    "    X=dataset[:,:-1]\n",
    "    y=dataset[:,-1]\n",
    "    \n",
    "    # format all fileds as string\n",
    "    X=X.astype(str)\n",
    "    return X,y\n",
    "\n",
    "# prepare input data\n",
    "def prepare_inputs(X_train,X_test):\n",
    "    oe=OrdinalEncoder()\n",
    "    oe.fit(X_train)\n",
    "    X_train_enc=oe.transform(X_train)\n",
    "    X_test_enc=oe.transform(X_test)\n",
    "    return X_train_enc,X_test_enc\n",
    "\n",
    "\n",
    "# Prepare target\n",
    "def prepare_targets(y_train,y_test):\n",
    "    le=LabelEncoder()\n",
    "    le.fit(y_train)\n",
    "    y_train_enc=le.transform(y_train)\n",
    "    y_test_enc=le.transform(y_test)\n",
    "    return y_train_enc,y_test_enc\n",
    "\n",
    "# load the dataset\n",
    "X, y = load_dataset('data/breast-cancer.csv')\n",
    "# split into train and test sets\n",
    "X_train, X_test, y_train, y_test = train_test_split(X, y, test_size=0.3, random_state=1)\n",
    "# prepare input data\n",
    "X_train_enc, X_test_enc = prepare_inputs(X_train, X_test)\n",
    "# prepare output data\n",
    "y_train_enc, y_test_enc = prepare_targets(y_train, y_test)\n",
    "\n",
    "# Fit the model\n",
    "model=LogisticRegression(solver='lbfgs')\n",
    "model.fit(X_train_enc,y_train_enc)\n",
    "\n",
    "# Evaluate the model\n",
    "yhat=model.predict(X_test_enc)\n",
    "\n",
    "# evaluate predictions\n",
    "accuracy=accuracy_score(y_test_enc,yhat)\n",
    "print(\"Accuracy : %.2f\"%(accuracy*100))\n"
   ]
  },
  {
   "cell_type": "markdown",
   "metadata": {},
   "source": [
    "#### Running the example prints the accuracy of the model on the training dataset.\n",
    "\n",
    "#### Note: your specific results may vary given the stochastic nature of the learning algorithm. Try running the example a few times.\n",
    "\n",
    "#### In this case, we can see that the model achieves a classification accuracy of about 72%.\n",
    "\n",
    "#### We would prefer to use a subset of features that achieves a classification accuracy that is as good or better than this."
   ]
  },
  {
   "cell_type": "code",
   "execution_count": null,
   "metadata": {},
   "outputs": [],
   "source": []
  }
 ],
 "metadata": {
  "kernelspec": {
   "display_name": "Python 3",
   "language": "python",
   "name": "python3"
  },
  "language_info": {
   "codemirror_mode": {
    "name": "ipython",
    "version": 3
   },
   "file_extension": ".py",
   "mimetype": "text/x-python",
   "name": "python",
   "nbconvert_exporter": "python",
   "pygments_lexer": "ipython3",
   "version": "3.6.8"
  }
 },
 "nbformat": 4,
 "nbformat_minor": 4
}
