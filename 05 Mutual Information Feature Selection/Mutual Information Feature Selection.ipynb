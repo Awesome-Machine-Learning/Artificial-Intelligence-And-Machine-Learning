{
 "cells": [
  {
   "cell_type": "markdown",
   "metadata": {},
   "source": [
    "---\n",
    "<h1 align='center' style=\"color:blue\">Mutual Information Feature Selection</h1>\n",
    "\n",
    "---"
   ]
  },
  {
   "cell_type": "markdown",
   "metadata": {},
   "source": [
    "#### Mutual information from the field of information theory is the application of information gain (typically used in the construction of decision trees) to feature selection.\n",
    "\n",
    "#### Mutual information is calculated between two variables and measures the reduction in uncertainty for one variable given a known value of the other variable.\n",
    "\n",
    "#### The scikit-learn machine learning library provides an implementation of mutual information for feature selection via the **mutual_info_classif() function.**\n",
    "\n"
   ]
  },
  {
   "cell_type": "code",
   "execution_count": 1,
   "metadata": {},
   "outputs": [],
   "source": [
    "import numpy as np\n",
    "import pandas as pd\n",
    "from sklearn.preprocessing import OrdinalEncoder\n",
    "from sklearn.preprocessing import LabelEncoder\n",
    "from sklearn.model_selection import train_test_split\n",
    "\n",
    "# load dataset\n",
    "# create function for load dataset\n",
    "def load_dataset(filename):\n",
    "    # load dataset as a pandas fataframe\n",
    "    data=pd.read_csv(filename,header=None)\n",
    "    \n",
    "    # retrieve numpy  array\n",
    "    dataset=data.values\n",
    "    \n",
    "    # Split into Input(X) and output(y) variables\n",
    "    X=dataset[:,:-1]\n",
    "    y=dataset[:,-1]\n",
    "    \n",
    "    # format all fileds as string\n",
    "    X=X.astype(str)\n",
    "    return X,y\n",
    "\n",
    "# prepare input data\n",
    "def prepare_inputs(X_train,X_test):\n",
    "    oe=OrdinalEncoder()\n",
    "    oe.fit(X_train)\n",
    "    X_train_enc=oe.transform(X_train)\n",
    "    X_test_enc=oe.transform(X_test)\n",
    "    return X_train_enc,X_test_enc\n",
    "\n",
    "\n",
    "# Prepare target\n",
    "def prepare_targets(y_train,y_test):\n",
    "    le=LabelEncoder()\n",
    "    le.fit(y_train)\n",
    "    y_train_enc=le.transform(y_train)\n",
    "    y_test_enc=le.transform(y_test)\n",
    "    return y_train_enc,y_test_enc\n",
    "\n",
    "# load the dataset\n",
    "X, y = load_dataset('data/breast-cancer.csv')\n",
    "# split into train and test sets\n",
    "X_train, X_test, y_train, y_test = train_test_split(X, y, test_size=0.3, random_state=1)\n",
    "# prepare input data\n",
    "X_train_enc, X_test_enc = prepare_inputs(X_train, X_test)\n",
    "# prepare output data\n",
    "y_train_enc, y_test_enc = prepare_targets(y_train, y_test)"
   ]
  },
  {
   "cell_type": "code",
   "execution_count": null,
   "metadata": {},
   "outputs": [],
   "source": []
  },
  {
   "cell_type": "markdown",
   "metadata": {},
   "source": [
    "#### Like chi2(), it can be used in the SelectKBest feature selection strategy (and other strategies)."
   ]
  },
  {
   "cell_type": "code",
   "execution_count": 3,
   "metadata": {},
   "outputs": [],
   "source": [
    "# feature selection\n",
    "def select_features(X_train, y_train, X_test):\n",
    "    fs = SelectKBest(score_func=mutual_info_classif, k='all')\n",
    "    fs.fit(X_train, y_train)\n",
    "    X_train_fs = fs.transform(X_train)\n",
    "    X_test_fs = fs.transform(X_test)\n",
    "    return X_train_fs, X_test_fs, fs"
   ]
  },
  {
   "cell_type": "markdown",
   "metadata": {},
   "source": [
    "#### We can perform feature selection using mutual information on the breast cancer set and print and plot the scores (larger is better) as we did in the previous section.\n",
    "\n",
    "#### The complete example of using mutual information for categorical feature selection is listed below."
   ]
  },
  {
   "cell_type": "code",
   "execution_count": 7,
   "metadata": {},
   "outputs": [
    {
     "name": "stdout",
     "output_type": "stream",
     "text": [
      "Feature 0: 0.000000\n",
      "Feature 1: 0.005979\n",
      "Feature 2: 0.051078\n",
      "Feature 3: 0.004170\n",
      "Feature 4: 0.063461\n",
      "Feature 5: 0.075712\n",
      "Feature 6: 0.009558\n",
      "Feature 7: 0.000000\n",
      "Feature 8: 0.009749\n"
     ]
    },
    {
     "data": {
      "image/png": "[encoded data removed]",
      "text/plain": [
       "<Figure size 432x288 with 1 Axes>"
      ]
     },
     "metadata": {
      "needs_background": "light"
     },
     "output_type": "display_data"
    }
   ],
   "source": [
    "import numpy as np\n",
    "import pandas as pd\n",
    "from sklearn.preprocessing import OrdinalEncoder\n",
    "from sklearn.preprocessing import LabelEncoder\n",
    "from sklearn.model_selection import train_test_split\n",
    "from sklearn.feature_selection import SelectKBest\n",
    "from sklearn.feature_selection import mutual_info_classif\n",
    "import matplotlib.pyplot as plt\n",
    "# load dataset\n",
    "# create function for load dataset\n",
    "def load_dataset(filename):\n",
    "    # load dataset as a pandas fataframe\n",
    "    data=pd.read_csv(filename,header=None)\n",
    "    \n",
    "    # retrieve numpy  array\n",
    "    dataset=data.values\n",
    "    \n",
    "    # Split into Input(X) and output(y) variables\n",
    "    X=dataset[:,:-1]\n",
    "    y=dataset[:,-1]\n",
    "    \n",
    "    # format all fileds as string\n",
    "    X=X.astype(str)\n",
    "    return X,y\n",
    "\n",
    "# prepare input data\n",
    "def prepare_inputs(X_train,X_test):\n",
    "    oe=OrdinalEncoder()\n",
    "    oe.fit(X_train)\n",
    "    X_train_enc=oe.transform(X_train)\n",
    "    X_test_enc=oe.transform(X_test)\n",
    "    return X_train_enc,X_test_enc\n",
    "\n",
    "\n",
    "# Prepare target\n",
    "def prepare_targets(y_train,y_test):\n",
    "    le=LabelEncoder()\n",
    "    le.fit(y_train)\n",
    "    y_train_enc=le.transform(y_train)\n",
    "    y_test_enc=le.transform(y_test)\n",
    "    return y_train_enc,y_test_enc\n",
    "\n",
    "# feature selection\n",
    "def select_features(X_train, y_train, X_test):\n",
    "    fs = SelectKBest(score_func=mutual_info_classif, k='all')\n",
    "    fs.fit(X_train, y_train)\n",
    "    X_train_fs = fs.transform(X_train)\n",
    "    X_test_fs = fs.transform(X_test)\n",
    "    return X_train_fs, X_test_fs, fs\n",
    "\n",
    "# load the dataset\n",
    "X, y = load_dataset('data/breast-cancer.csv')\n",
    "# split into train and test sets\n",
    "X_train, X_test, y_train, y_test = train_test_split(X, y, test_size=0.3, random_state=1)\n",
    "# prepare input data\n",
    "X_train_enc, X_test_enc = prepare_inputs(X_train, X_test)\n",
    "# prepare output data\n",
    "y_train_enc, y_test_enc = prepare_targets(y_train, y_test)\n",
    "\n",
    "# feature selection\n",
    "X_train_fs, X_test_fs, fs = select_features(X_train_enc, y_train_enc, X_test_enc)\n",
    "# what are scores for the features\n",
    "for i in range(len(fs.scores_)):\n",
    "    print('Feature %d: %f' % (i, fs.scores_[i]))\n",
    "# plot the scores\n",
    "plt.bar([i for i in range(len(fs.scores_))], fs.scores_)\n",
    "plt.show()"
   ]
  },
  {
   "cell_type": "markdown",
   "metadata": {},
   "source": [
    "#### Running the example first prints the scores calculated for each input feature and the target variable.\n",
    "\n",
    "#### **Note:** your specific results may differ. Try running the example a few times.\n",
    "\n",
    "#### In this case, we can see that some of the features have a very low score, suggesting that perhaps they can be removed.\n",
    "\n",
    "#### Perhaps features 3, 6, 2, and 5 are most relevant.\n",
    "\n",
    "#### A bar chart of the feature importance scores for each input feature is created.\n",
    "\n",
    "#### Importantly, a different mixture of features is promoted.\n",
    "\n",
    "#### Now that we know how to perform feature selection on categorical data for a classification predictive modeling problem, we can try developing a model using the selected features and compare the results."
   ]
  },
  {
   "cell_type": "code",
   "execution_count": null,
   "metadata": {},
   "outputs": [],
   "source": []
  },
  {
   "cell_type": "code",
   "execution_count": null,
   "metadata": {},
   "outputs": [],
   "source": []
  },
  {
   "cell_type": "code",
   "execution_count": null,
   "metadata": {},
   "outputs": [],
   "source": []
  },
  {
   "cell_type": "code",
   "execution_count": null,
   "metadata": {},
   "outputs": [],
   "source": []
  }
 ],
 "metadata": {
  "kernelspec": {
   "display_name": "Python 3",
   "language": "python",
   "name": "python3"
  },
  "language_info": {
   "codemirror_mode": {
    "name": "ipython",
    "version": 3
   },
   "file_extension": ".py",
   "mimetype": "text/x-python",
   "name": "python",
   "nbconvert_exporter": "python",
   "pygments_lexer": "ipython3",
   "version": "3.6.8"
  }
 },
 "nbformat": 4,
 "nbformat_minor": 4
}
