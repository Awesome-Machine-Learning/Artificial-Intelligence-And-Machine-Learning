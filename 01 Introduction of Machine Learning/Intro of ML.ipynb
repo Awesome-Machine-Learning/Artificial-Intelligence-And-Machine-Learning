{
 "cells": [
  {
   "cell_type": "markdown",
   "metadata": {},
   "source": [
    "---\n",
    "<h1 align='center' style=\"color:blue\">@ Machine Learning @</h1>\n",
    "\n",
    "---"
   ]
  },
  {
   "cell_type": "markdown",
   "metadata": {},
   "source": [
    "---\n",
    "### While studying AI, there is one term that you are going to come across a lot, and it is Machine Learning (ML). Now, even if you are not acquainted with the latest updates in the tech world, I am pretty sure you must have heard about AI and ML creating a storm there.\n",
    "\n",
    "### But what exactly is Machine Learning? And how is it related to AI? Read this AI and Machine Learning tutorial to find out! Before anything else, let us start with understanding Machine Learning."
   ]
  },
  {
   "cell_type": "markdown",
   "metadata": {},
   "source": [
    "---\n",
    "<h1 style=\"color:red\">What is Machine Learning?</h1>"
   ]
  },
  {
   "cell_type": "markdown",
   "metadata": {},
   "source": [
    "### University of Washington defines Machine Learning as “***Machine learning algorithms*** can figure out how to perform important tasks by generalizing from examples.”\n",
    "\n",
    "### ML expert Tom M Mitchell states that “Machine learning is the study of computer algorithms that allow computer programs to automatically improve through experience.”\n",
    "\n",
    "### In simple words, machine learning involves algorithms that allow computers to learn automatically from previous interactions with users, without being distinctly programmed with the help of neural networks. It gives computers the skill to learn from previous data without an expert having to program it. With the help of machine learning, a system takes decisions based on previous patterns.\n",
    "\n",
    "### Now you must be wondering what a neural network is. A neural network is a series of algorithms that are somewhat like a biological neural network (revolving around animal brains). These algorithms are such that they facilitate the recognition of relationships in a set of data."
   ]
  },
  {
   "cell_type": "markdown",
   "metadata": {},
   "source": [
    "---\n",
    "<h2 style=\"color:red\">Components of Machine Learning</h2>"
   ]
  },
  {
   "cell_type": "markdown",
   "metadata": {},
   "source": [
    "### ML experts develop thousands of ML algorithms every year. Below mentioned are the three vital components that every algorithm has:\n",
    "\n",
    "## 1. Representation\n",
    "### It includes the selection of a model that represents data. ***Decision trees***, instances, set of rules, etc are some examples of this component. A decision tree is a tree-like model comprising of various decisions and their consequences. Instance-based learning occurs when the machine compares new problems with previously occurred instances.\n",
    "## 2. Evaluation\n",
    "### Evaluation is that component which provides the machine to evaluate and optimize hypotheses (candidate programs). It is also known as objective, utility, or scoring function. Some examples of evaluation are accuracy, squared error, posterior probability, etc. Accuracy basically measures or evaluates classification models. Posterior probability is that probability which arises upon taking into account updated information.\n",
    "\n",
    "## 3. Optimization\n",
    "### Optimization is the way in which hypotheses are generated. Examples of optimization include combinatorial optimization, convex optimization, and constrained optimization. Combinatorial optimization uses combinatorial techniques to solve discrete combination problems."
   ]
  },
  {
   "cell_type": "markdown",
   "metadata": {},
   "source": [
    "---\n",
    "<h1 style=\"color:red\">Types of Machine Learning</h1>"
   ]
  },
  {
   "cell_type": "markdown",
   "metadata": {},
   "source": [
    "---\n",
    "<img src=\"images/1.jpg\">"
   ]
  },
  {
   "cell_type": "markdown",
   "metadata": {},
   "source": [
    "---\n",
    "<img src=\"images/2.png\">"
   ]
  },
  {
   "cell_type": "markdown",
   "metadata": {},
   "source": [
    "---\n",
    "<img src=\"images/3.jpg\">"
   ]
  },
  {
   "cell_type": "markdown",
   "metadata": {},
   "source": [
    "---\n",
    "<img src=\"images/4.png\">"
   ]
  },
  {
   "cell_type": "markdown",
   "metadata": {},
   "source": [
    "---\n",
    "<img src=\"images/5.png\">"
   ]
  },
  {
   "cell_type": "markdown",
   "metadata": {},
   "source": [
    "---\n",
    "<img src=\"images/6.png\">"
   ]
  },
  {
   "cell_type": "markdown",
   "metadata": {},
   "source": [
    "---\n",
    "<h2 style=\"color:green\">1. Supervised Learning :</h2>\n",
    "\n",
    "### In supervised learning, we have labeled dataset which means that we already know the input and their correspondings output. We train the model using an algorithm that maps the input to their outputs. Here, we try to minimize the error and then we can use new data to predict their outcomes. Supervised learning tasks include classification problems and regression problems."
   ]
  },
  {
   "cell_type": "markdown",
   "metadata": {},
   "source": [
    "---\n",
    "<img src=\"images/Supl.jpg\">"
   ]
  },
  {
   "cell_type": "markdown",
   "metadata": {},
   "source": [
    "---\n",
    "<h2 style=\"color:green\">2. Unsupervised Learning</h2>\n",
    "    \n",
    "### The unsupervised learning technique is used when we don’t have labeled data. So the machine only knows input data and it has to act on the information without any guidance or output data. Therefore the machine is restricted to find hidden patterns and similarities within input data. Unsupervised learning is used for clustering and association problems."
   ]
  },
  {
   "cell_type": "markdown",
   "metadata": {},
   "source": [
    "---\n",
    "<img src=\"images/unsupl.png\">"
   ]
  },
  {
   "cell_type": "markdown",
   "metadata": {},
   "source": [
    "---\n",
    "<h2 style=\"color:green\">3. Semi-Supervised Learning</h2>\n",
    "\n",
    "### Labeled data are expensive and hard to find when the problem you are working on is not so common. In semi-supervised learning, we use some amount of labeled data with unlabelled data. The models accuracy of an unlabelled data can be increased by using some of the labeled data."
   ]
  },
  {
   "cell_type": "markdown",
   "metadata": {},
   "source": [
    "---\n",
    "<img src=\"images/ssupl.png\">"
   ]
  },
  {
   "cell_type": "markdown",
   "metadata": {},
   "source": [
    "---\n",
    "<h2 style=\"color:green\">4. Reinforcement Learning</h2>\n",
    "\n",
    "### In Reinforcement learning, the machine uses previous data to evolve and learn. It uses rewards and punishments to train the algorithm by taking positive rewards for good decisions and negative rewards for bad decisions. This learning doesn’t require a dataset to train. It’s a self-sustained system that learns to improve itself from the real-world environment."
   ]
  },
  {
   "cell_type": "markdown",
   "metadata": {},
   "source": [
    "---\n",
    "<img src=\"images/reinl.jpg\">"
   ]
  },
  {
   "cell_type": "markdown",
   "metadata": {},
   "source": [
    "---\n",
    "---\n",
    "<h1 style=\"color:red\">Example of Machine Learning application in Artificial Intelligence</h1>"
   ]
  },
  {
   "cell_type": "markdown",
   "metadata": {},
   "source": [
    "### There is no denying that Cortana, a virtual assistant developed by Microsoft for Windows 10, is the result of progress in AI. It functions exactly like Siri or the Google Assistant. Cortana helps you find information on everything when requested using voice- even questions like What will the weather be like tomorrow? Or it even does any calculations for you. It also performs particular functions or commands other applications to perform an activity (setting an alarm, placing calls).\n",
    "\n",
    "### AI is an integral part of this assistant, as it gathers data on the basis of user interaction and then provides customized results.\n",
    "\n",
    "### But there’s more to Cortana than just answering questions. Microsoft claims that with each interaction, Cortana constantly keeps learning about its users, and tries to anticipate the requirements of the users. Which means that it constantly uses machine learning to intelligently operate to cater to the user’s needs."
   ]
  },
  {
   "cell_type": "markdown",
   "metadata": {},
   "source": [
    "---\n",
    "---\n",
    "<h1 style=\"color:red\">Difference between AI and Machine Learning</h1>"
   ]
  },
  {
   "cell_type": "markdown",
   "metadata": {},
   "source": [
    "---\n",
    "<img src=\"images/ml Al.png\">"
   ]
  },
  {
   "cell_type": "markdown",
   "metadata": {},
   "source": [
    "---\n",
    "<img src=\"images/ml ai.jpeg\">"
   ]
  },
  {
   "cell_type": "markdown",
   "metadata": {},
   "source": []
  },
  {
   "cell_type": "markdown",
   "metadata": {},
   "source": [
    "### AI and ML sound so different, but in reality, it can cause confusion. Machine Learning is an application of AI which implies that with sufficient progress, machines can learn and enhance with each user interaction. Artificial Intelligence is a more extensive concept involving the ability of machines to carry out a variety of tasks."
   ]
  },
  {
   "cell_type": "markdown",
   "metadata": {},
   "source": [
    "---\n",
    "---\n",
    "<h1 style=\"color:red\">Summary</h1>"
   ]
  },
  {
   "cell_type": "markdown",
   "metadata": {},
   "source": [
    "### I believe it is clear now that Artificial Intelligence is like an umbrella that houses Machine Learning, along with other concepts. AI is more like a study aimed at training computers to simplify and automate tasks, whereas ML induces a machine to learn on its own."
   ]
  },
  {
   "cell_type": "code",
   "execution_count": null,
   "metadata": {},
   "outputs": [],
   "source": []
  }
 ],
 "metadata": {
  "kernelspec": {
   "display_name": "Python 3",
   "language": "python",
   "name": "python3"
  },
  "language_info": {
   "codemirror_mode": {
    "name": "ipython",
    "version": 3
   },
   "file_extension": ".py",
   "mimetype": "text/x-python",
   "name": "python",
   "nbconvert_exporter": "python",
   "pygments_lexer": "ipython3",
   "version": "3.6.8"
  }
 },
 "nbformat": 4,
 "nbformat_minor": 4
}
