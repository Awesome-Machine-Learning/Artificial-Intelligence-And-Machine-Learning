{
 "cells": [
  {
   "cell_type": "markdown",
   "metadata": {},
   "source": [
    "---\n",
    "<h1 align='center' style=\"color:blue\">Feature Selection with Categorical Data</h1>\n",
    "\n",
    "---"
   ]
  },
  {
   "cell_type": "markdown",
   "metadata": {},
   "source": [
    "https://machinelearningmastery.com/\n",
    "\n",
    "#### Feature selection is the process of identifying and selecting a subset of input features that are most relevant to the target variable.\n",
    "\n",
    "#### Feature selection is often straightforward when working with real-valued data, such as using the Pearson’s correlation coefficient, but can be challenging when working with categorical data.\n",
    "\n",
    "#### The two most commonly used feature selection methods for categorical input data when the target variable is also categorical (e.g. classification predictive modeling) are the **chi-squared statistic** and the **mutual information statistic**.\n",
    "\n",
    "#### here We  will discover how to perform feature selection with categorical input data.\n",
    "\n",
    "#### After completing this tutorial, you will know:\n",
    ">- The breast cancer predictive modeling problem with categorical inputs and binary classification target variable.\n",
    ">- How to evaluate the importance of categorical features using the chi-squared and mutual information statistics.\n",
    ">- How to perform feature selection for categorical data when fitting and evaluating a classification model.\n",
    "\n",
    "---\n",
    "## **We divided This into three parts:**\n",
    "\n",
    "#### 1. Breast Cancer Categorical Dataset\n",
    "#### 2. Categorical Feature Selection\n",
    "#### 3. Modeling With Selected Features"
   ]
  },
  {
   "cell_type": "markdown",
   "metadata": {},
   "source": [
    "---\n",
    "---\n",
    "## 1. **Breast Cancer Categorical Dataset**"
   ]
  },
  {
   "cell_type": "markdown",
   "metadata": {},
   "source": [
    "#### The dataset classifies breast cancer patient data as either a recurrence or no recurrence of cancer. There are 286 examples and nine input variables. It is a binary classification problem.\n",
    "\n",
    "#### @Looking at the data, we can see that all nine input variables are categorical.\n",
    "\n",
    "#### Specifically, all variables are quoted strings; some are ordinal and some are not."
   ]
  },
  {
   "cell_type": "markdown",
   "metadata": {},
   "source": [
    "### @ Load the dataset"
   ]
  },
  {
   "cell_type": "code",
   "execution_count": 29,
   "metadata": {},
   "outputs": [],
   "source": [
    "import pandas as pd\n",
    "data=pd.read_csv(\"https://raw.githubusercontent.com/jbrownlee/Datasets/master/breast-cancer.csv\",header=None)\n",
    "data.head()\n",
    "# Convert dataframe into CSV file\n",
    "data.to_csv(\"data/breast-cancer.csv\",index=None,header=None)"
   ]
  },
  {
   "cell_type": "markdown",
   "metadata": {},
   "source": [
    "### Split the columns into input (X) and output(y) for modeling."
   ]
  },
  {
   "cell_type": "code",
   "execution_count": 30,
   "metadata": {},
   "outputs": [
    {
     "data": {
      "text/plain": [
       "array([[\"'40-49'\", \"'premeno'\", \"'15-19'\", ..., \"'right'\", \"'left_up'\",\n",
       "        \"'no'\"],\n",
       "       [\"'50-59'\", \"'ge40'\", \"'15-19'\", ..., \"'right'\", \"'central'\",\n",
       "        \"'no'\"],\n",
       "       [\"'50-59'\", \"'ge40'\", \"'35-39'\", ..., \"'left'\", \"'left_low'\",\n",
       "        \"'no'\"],\n",
       "       ...,\n",
       "       [\"'30-39'\", \"'premeno'\", \"'30-34'\", ..., \"'right'\", \"'right_up'\",\n",
       "        \"'no'\"],\n",
       "       [\"'50-59'\", \"'premeno'\", \"'15-19'\", ..., \"'right'\", \"'left_low'\",\n",
       "        \"'no'\"],\n",
       "       [\"'50-59'\", \"'ge40'\", \"'40-44'\", ..., \"'left'\", \"'right_up'\",\n",
       "        \"'no'\"]], dtype=object)"
      ]
     },
     "execution_count": 30,
     "metadata": {},
     "output_type": "execute_result"
    }
   ],
   "source": [
    "dataset=data.values\n",
    "# dataset\n",
    "\n",
    "# split the data\n",
    "X=dataset[:,:-1]\n",
    "X"
   ]
  },
  {
   "cell_type": "code",
   "execution_count": 31,
   "metadata": {},
   "outputs": [
    {
     "data": {
      "text/plain": [
       "array([[\"'40-49'\", \"'premeno'\", \"'15-19'\", ..., \"'left_up'\", \"'no'\",\n",
       "        \"'recurrence-events'\"],\n",
       "       [\"'50-59'\", \"'ge40'\", \"'15-19'\", ..., \"'central'\", \"'no'\",\n",
       "        \"'no-recurrence-events'\"],\n",
       "       [\"'50-59'\", \"'ge40'\", \"'35-39'\", ..., \"'left_low'\", \"'no'\",\n",
       "        \"'recurrence-events'\"],\n",
       "       ...,\n",
       "       [\"'50-59'\", \"'premeno'\", \"'25-29'\", ..., \"'left_low'\", \"'yes'\",\n",
       "        \"'no-recurrence-events'\"],\n",
       "       [\"'30-39'\", \"'premeno'\", \"'30-34'\", ..., \"'right_up'\", \"'no'\",\n",
       "        \"'no-recurrence-events'\"],\n",
       "       [\"'50-59'\", \"'premeno'\", \"'15-19'\", ..., \"'left_low'\", \"'no'\",\n",
       "        \"'no-recurrence-events'\"]], dtype=object)"
      ]
     },
     "execution_count": 31,
     "metadata": {},
     "output_type": "execute_result"
    }
   ],
   "source": [
    "y=dataset[:-1]\n",
    "y"
   ]
  },
  {
   "cell_type": "markdown",
   "metadata": {},
   "source": [
    "#### We can force all fields in the input data to be string, just in case Pandas tried to map some automatically to numbers."
   ]
  },
  {
   "cell_type": "markdown",
   "metadata": {},
   "source": [
    "#### Format all fields as String"
   ]
  },
  {
   "cell_type": "code",
   "execution_count": 32,
   "metadata": {},
   "outputs": [
    {
     "data": {
      "text/plain": [
       "dtype('<U11')"
      ]
     },
     "execution_count": 32,
     "metadata": {},
     "output_type": "execute_result"
    }
   ],
   "source": [
    "X=X.astype(str)\n",
    "X.dtype"
   ]
  },
  {
   "cell_type": "markdown",
   "metadata": {},
   "source": [
    "---\n",
    "### We can tie all of this together into a helpful function that we can reuse later."
   ]
  },
  {
   "cell_type": "code",
   "execution_count": 33,
   "metadata": {},
   "outputs": [],
   "source": [
    "# load dataset\n",
    "# create function for load dataset\n",
    "def load_dataset(filename):\n",
    "    # load dataset as a pandas fataframe\n",
    "    data=pd.read_csv(filename,header=None)\n",
    "    \n",
    "    # retrieve numpy  array\n",
    "    dataset=data.values\n",
    "    \n",
    "    # Split into Input(X) and output(y) variables\n",
    "    X=dataset[:,:-1]\n",
    "    y=dataset[:,-1]\n",
    "    \n",
    "    # format all fileds as string\n",
    "    X=X.astype(str)\n",
    "    return X,y"
   ]
  },
  {
   "cell_type": "markdown",
   "metadata": {},
   "source": [
    "#### Once loaded, we can split the data into training and test sets so that we can fit and evaluate a learning model.\n",
    "\n",
    "#### We will use the train_test_split() function form scikit-learn "
   ]
  },
  {
   "cell_type": "code",
   "execution_count": 45,
   "metadata": {},
   "outputs": [],
   "source": [
    "# load the dataset\n",
    "X,y=load_dataset(\"breast-cancer.csv\")\n",
    "\n",
    "# Split the data into train & test\n",
    "from sklearn.model_selection import train_test_split\n",
    "X_train,X_test,y_train,y_test=train_test_split(X,y,test_size=30,random_state=1)"
   ]
  },
  {
   "cell_type": "markdown",
   "metadata": {},
   "source": [
    "### Tying all of these elements together, the complete example of loading, splitting, and summarizing the raw categorical dataset is listed below."
   ]
  },
  {
   "cell_type": "code",
   "execution_count": 47,
   "metadata": {},
   "outputs": [
    {
     "name": "stdout",
     "output_type": "stream",
     "text": [
      "Train (256, 9) (256,)\n",
      "Test (30, 9) (30,)\n"
     ]
    }
   ],
   "source": [
    "import pandas as pd\n",
    "import numpy as np\n",
    "from sklearn.model_selection import train_test_split\n",
    "\n",
    "\n",
    "# load dataset\n",
    "# create function for load dataset\n",
    "def load_dataset(filename):\n",
    "    # load dataset as a pandas fataframe\n",
    "    data=pd.read_csv(filename,header=None)\n",
    "    \n",
    "    # retrieve numpy  array\n",
    "    dataset=data.values\n",
    "    \n",
    "    # Split into Input(X) and output(y) variables\n",
    "    X=dataset[:,:-1]\n",
    "    y=dataset[:,-1]\n",
    "    \n",
    "    # format all fileds as string\n",
    "    X=X.astype(str)\n",
    "    return X,y\n",
    "\n",
    "# load the dataset\n",
    "X,y=load_dataset(\"breast-cancer.csv\")\n",
    "\n",
    "# Split the data into train & test\n",
    "X_train,X_test,y_train,y_test=train_test_split(X,y,test_size=30,random_state=1)\n",
    "\n",
    "# summarize\n",
    "print('Train', X_train.shape, y_train.shape)\n",
    "print('Test', X_test.shape, y_test.shape)"
   ]
  },
  {
   "cell_type": "markdown",
   "metadata": {},
   "source": [
    "---\n",
    "---\n",
    "---\n",
    "---\n",
    "## **Encode the Modeling**"
   ]
  },
  {
   "cell_type": "markdown",
   "metadata": {},
   "source": [
    "#### let’s look at how we can encode it for modeling.\n",
    "\n",
    "#### We can use the **OrdinalEncoder()** from scikit-learn to encode each variable to integers. This is a flexible class and does allow the order of the categories to be specified as arguments if any such order is known.\n",
    "\n",
    "#### **Note:** I will leave it as an exercise to you to update the example below to try specifying the order for those variables that have a natural ordering and see if it has an impact on model performance.\n",
    "\n",
    "#### The best practice when encoding variables is to fit the encoding on the training dataset, then apply it to the train and test datasets.\n",
    "\n",
    "#### The function below named prepare_inputs() takes the input data for the train and test sets and encodes it using an ordinal encoding."
   ]
  },
  {
   "cell_type": "markdown",
   "metadata": {},
   "source": [
    "### @Prepare Input data"
   ]
  },
  {
   "cell_type": "code",
   "execution_count": 41,
   "metadata": {},
   "outputs": [],
   "source": [
    "from sklearn.preprocessing import OrdinalEncoder\n",
    "# prepare input data\n",
    "def prepare_inputs(X_train,X_test):\n",
    "    oe=OrdinalEncoder()\n",
    "    oe.fit(X_train)\n",
    "    X_train_enc=oe.transform(X_train)\n",
    "    X_test_enc=oe.transform(X_test)\n",
    "    return X_train_enc,X_test_enc"
   ]
  },
  {
   "cell_type": "markdown",
   "metadata": {},
   "source": [
    "#### We also need to prepare the target variable.\n",
    "\n"
   ]
  },
  {
   "cell_type": "markdown",
   "metadata": {},
   "source": [
    "#### It is a binary classification problem, so we need to map the two class labels to 0 and 1. This is a type of ordinal encoding, and scikit-learn provides the LabelEncoder class specifically designed for this purpose. We could just as easily use the OrdinalEncoder and achieve the same result, although the LabelEncoder is designed for encoding a single variable.\n",
    "\n",
    "#### The prepare_targets() function integer encodes the output data for the train and test sets."
   ]
  },
  {
   "cell_type": "code",
   "execution_count": 43,
   "metadata": {},
   "outputs": [],
   "source": [
    "from sklearn.preprocessing import LabelEncoder\n",
    "\n",
    "# Prepare target\n",
    "def prepare_targets(y_train,y_test):\n",
    "    le=LabelEncoder()\n",
    "    le.fit(y_train)\n",
    "    y_train_enc=le.transform(y_train)\n",
    "    y_test_enc=le.transform(y_test)\n",
    "    return y_train_enc,y_test_enc"
   ]
  },
  {
   "cell_type": "markdown",
   "metadata": {},
   "source": [
    "#### We can call these functions to prepare our data."
   ]
  },
  {
   "cell_type": "code",
   "execution_count": 44,
   "metadata": {},
   "outputs": [],
   "source": [
    "# prepare input data\n",
    "X_train_enc,X_test_enc=prepare_inputs(X_train,X_test)\n",
    "\n",
    "# prepare output data\n",
    "y_train_enc,y_test_enc=prepare_targets(y_train,y_test)"
   ]
  },
  {
   "cell_type": "markdown",
   "metadata": {},
   "source": [
    "### Tying this all together, the complete example of loading and encoding the input and output variables for the breast cancer categorical dataset is listed below."
   ]
  },
  {
   "cell_type": "code",
   "execution_count": 48,
   "metadata": {},
   "outputs": [],
   "source": [
    "import numpy as np\n",
    "import pandas as pd\n",
    "from sklearn.preprocessing import OrdinalEncoder\n",
    "from sklearn.preprocessing import LabelEncoder\n",
    "\n",
    "\n",
    "# load dataset\n",
    "# create function for load dataset\n",
    "def load_dataset(filename):\n",
    "    # load dataset as a pandas fataframe\n",
    "    data=pd.read_csv(filename,header=None)\n",
    "    \n",
    "    # retrieve numpy  array\n",
    "    dataset=data.values\n",
    "    \n",
    "    # Split into Input(X) and output(y) variables\n",
    "    X=dataset[:,:-1]\n",
    "    y=dataset[:,-1]\n",
    "    \n",
    "    # format all fileds as string\n",
    "    X=X.astype(str)\n",
    "    return X,y\n",
    "\n",
    "# prepare input data\n",
    "def prepare_inputs(X_train,X_test):\n",
    "    oe=OrdinalEncoder()\n",
    "    oe.fit(X_train)\n",
    "    X_train_enc=oe.transform(X_train)\n",
    "    X_test_enc=oe.transform(X_test)\n",
    "    return X_train_enc,X_test_enc\n",
    "\n",
    "\n",
    "# Prepare target\n",
    "def prepare_targets(y_train,y_test):\n",
    "    le=LabelEncoder()\n",
    "    le.fit(y_train)\n",
    "    y_train_enc=le.transform(y_train)\n",
    "    y_test_enc=le.transform(y_test)\n",
    "    return y_train_enc,y_test_enc\n",
    "\n",
    "# load the dataset\n",
    "X, y = load_dataset('breast-cancer.csv')\n",
    "# split into train and test sets\n",
    "X_train, X_test, y_train, y_test = train_test_split(X, y, test_size=0.33, random_state=1)\n",
    "# prepare input data\n",
    "X_train_enc, X_test_enc = prepare_inputs(X_train, X_test)\n",
    "# prepare output data\n",
    "y_train_enc, y_test_enc = prepare_targets(y_train, y_test)"
   ]
  },
  {
   "cell_type": "code",
   "execution_count": null,
   "metadata": {},
   "outputs": [],
   "source": []
  }
 ],
 "metadata": {
  "kernelspec": {
   "display_name": "Python 3",
   "language": "python",
   "name": "python3"
  },
  "language_info": {
   "codemirror_mode": {
    "name": "ipython",
    "version": 3
   },
   "file_extension": ".py",
   "mimetype": "text/x-python",
   "name": "python",
   "nbconvert_exporter": "python",
   "pygments_lexer": "ipython3",
   "version": "3.6.8"
  }
 },
 "nbformat": 4,
 "nbformat_minor": 4
}
