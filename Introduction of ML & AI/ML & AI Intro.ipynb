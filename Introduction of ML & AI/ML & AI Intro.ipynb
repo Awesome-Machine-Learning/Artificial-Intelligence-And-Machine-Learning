{
 "cells": [
  {
   "cell_type": "markdown",
   "metadata": {},
   "source": [
    "---\n",
    "<h1 align='center' style='color:blue'>AI & ML</h1>\n",
    "\n",
    "---"
   ]
  },
  {
   "cell_type": "markdown",
   "metadata": {},
   "source": [
    "<h1 style=\"color:red\"> What is AI?</h1>"
   ]
  },
  {
   "cell_type": "markdown",
   "metadata": {},
   "source": [
    "### AI is the discipline of the computer sciences that focuses on the creation of intelligent computer programs. The aim of creating such programs is to emulate human behavior in situations where humans either can’t go or can’t stay for prolonged periods of time.\n",
    "\n",
    "### It is also very useful in cases where automation is profitable by reducing human effort and eliminating human error. Some of the common features that AI programs are designed to have are:\n",
    "> - Problem-solving\n",
    "> - Natural language processing\n",
    "> - Planning\n",
    "> - Learning"
   ]
  },
  {
   "cell_type": "markdown",
   "metadata": {},
   "source": [
    "### The field of AI research saw significant growth in the first decade of the 21st century due to successful implementations of machine learning techniques and improvement in available hardware. Today, AI has found applications in many different fields and also in households."
   ]
  },
  {
   "cell_type": "markdown",
   "metadata": {},
   "source": [
    "---\n",
    "<h1 style=\"color:red\">Types of AI</h1>"
   ]
  },
  {
   "cell_type": "markdown",
   "metadata": {},
   "source": [
    "<img src=\"images/AItypes.png\">"
   ]
  },
  {
   "cell_type": "code",
   "execution_count": null,
   "metadata": {},
   "outputs": [],
   "source": []
  },
  {
   "cell_type": "markdown",
   "metadata": {},
   "source": [
    "<img src=\"images/AItypes1.jpg\">"
   ]
  },
  {
   "cell_type": "markdown",
   "metadata": {},
   "source": [
    "### AI can be classified in many ways. However, there are two most popular ways of classification based on their capabilities and functionality."
   ]
  },
  {
   "cell_type": "markdown",
   "metadata": {},
   "source": [
    "---\n",
    "<h2 style=\"color:green\">1. Type-1 AI (Classification based on ability)</h2>\n",
    "\n",
    "### There are three types of AI in the Type-1 classification:\n",
    "\n",
    "## 1.1. Narrow AI\n",
    "### Narrow AI is also called weak AI. This type of AI can only work in predefined situations. They can only perform certain pre-programmed tasks.\n",
    "\n",
    "## 1.2. General AI\n",
    "### General AI can perform any task with efficiency equal to that of a human.\n",
    "\n",
    "## 1.3. Super AI\n",
    "### Super AI is a hypothetical concept in AI research. It is an AI that can perform any task better than humans with greater efficiency without any human error."
   ]
  },
  {
   "cell_type": "code",
   "execution_count": null,
   "metadata": {},
   "outputs": [],
   "source": []
  },
  {
   "cell_type": "markdown",
   "metadata": {},
   "source": [
    "---\n",
    "<h2 style=\"color:green\">2. Type-2 AI (Classification based on functionality)</h2>\n",
    "\n",
    "### There are four types of AI in Type-2 classification:\n",
    "\n",
    "## 2.1. Reactive Machines\n",
    "### Reactive machines are the most basic type of artificial intelligence. This type of AI looks at the world around it and responds based on its observation. They do not form memory nor do they learn from past experiences.\n",
    "\n",
    "### IBM’s chess-playing supercomputer, Deep Blue is a good example of a reactive machine.\n",
    "\n",
    "## 2.2. Limited Memory\n",
    "### Limited memory AI is similar to reactive machines except they have a small memory that they can use to make observations over a period of time to judge the situation and give a response based on that.\n",
    "\n",
    "### An example of limited memory AI would be self-driving cars. Self-driving cars need at least short term memory to react properly to road signs and to observe the speeds and paths of other vehicles around them.\n",
    "\n",
    "## 2.3. Theory of Mind\n",
    "### This type of AI does not exist yet. It perceives the world around them and other agents inside it as well. They understand how other objects and entities will react to their actions and act accordingly.\n",
    "\n",
    "## 2.4. Self-Awareness\n",
    "### Self-aware AI is an AI with an idea of self. This type of AI has consciousness and sentiments as well. Currently, this type of AI is purely hypothetical."
   ]
  },
  {
   "cell_type": "code",
   "execution_count": null,
   "metadata": {},
   "outputs": [],
   "source": []
  },
  {
   "cell_type": "markdown",
   "metadata": {},
   "source": [
    "---\n",
    "<h1 style=\"color:red\">Examples of Artificial Intelligence<h1>"
   ]
  },
  {
   "cell_type": "markdown",
   "metadata": {},
   "source": [
    "<img src=\"images/exmplAI.jpg\">"
   ]
  },
  {
   "cell_type": "markdown",
   "metadata": {},
   "source": [
    "### AI is all around us today. They are apart of any netizen’s everyday life. Some common examples of AI are:\n",
    "\n",
    "## 1. Virtual Assistants\n",
    "### Virtual assistants like Alexa, Siri, and Google Assistant are the most commonly used AI. More than 90% of smartphone users use the virtual assistants provided in their devices.\n",
    "\n",
    "## 2. Suggestions and Recommendations at E-commerce Websites\n",
    "### The suggestion and recommendations given by the e-commerce website are done by AI that checks a customer’s order history and searches to determine the best products to recommend.\n",
    "\n",
    "## 3. Cogito\n",
    "### Cogito is a speech recognition software that tries to identify the emotions behind said words by noticing the tone, volume, and stress on the words. It has been very useful for customer service calls and on-call assistance.\n",
    "\n",
    "## 4. Spam Filters\n",
    "### Spam filters in email and messaging services and apps check incoming messages and emails for certain identifiers. They also learn based on your decisions to move a message to or from spam.\n",
    "\n",
    "## 5. Loan and Credit Card Processing\n",
    "### The credit score given to a customer is calculated by an AI, based on certain pre-defined characteristics. The banks then approve or reject loan and credit card applications based on this."
   ]
  },
  {
   "cell_type": "markdown",
   "metadata": {},
   "source": [
    "---\n",
    "### we know that **Artificial Intelligence** is the simulation of human behaviour by a machine/computer. In the 21st century, AI has reached almost every house, like Alexa, Siri, product recommendations to name a few.\n",
    "\n",
    "### According to a study by Creative Strategies, only 2% of iPhone owners have never used Siri, and only 4% of Android owners have never leveraged the power of OK Google. When it comes to usage, 51% use voice assistants in the car, 6% in public, and 1.3% at work."
   ]
  },
  {
   "cell_type": "markdown",
   "metadata": {},
   "source": [
    "# =============================================================\n",
    "---\n",
    "### While studying AI, there is one term that you are going to come across a lot, and it is Machine Learning (ML). Now, even if you are not acquainted with the latest updates in the tech world, I am pretty sure you must have heard about AI and ML creating a storm there.\n",
    "\n",
    "### But what exactly is Machine Learning? And how is it related to AI? Read this AI and Machine Learning tutorial to find out! Before anything else, let us start with understanding Machine Learning."
   ]
  },
  {
   "cell_type": "markdown",
   "metadata": {},
   "source": [
    "<h1 style=\"color:red\">What is Machine Learning?</h1>"
   ]
  },
  {
   "cell_type": "markdown",
   "metadata": {},
   "source": [
    "### University of Washington defines Machine Learning as “***Machine learning algorithms*** can figure out how to perform important tasks by generalizing from examples.”\n",
    "\n",
    "### ML expert Tom M Mitchell states that “Machine learning is the study of computer algorithms that allow computer programs to automatically improve through experience.”\n",
    "\n",
    "### In simple words, machine learning involves algorithms that allow computers to learn automatically from previous interactions with users, without being distinctly programmed with the help of neural networks. It gives computers the skill to learn from previous data without an expert having to program it. With the help of machine learning, a system takes decisions based on previous patterns.\n",
    "\n",
    "### Now you must be wondering what a neural network is. A neural network is a series of algorithms that are somewhat like a biological neural network (revolving around animal brains). These algorithms are such that they facilitate the recognition of relationships in a set of data."
   ]
  },
  {
   "cell_type": "markdown",
   "metadata": {},
   "source": [
    "---\n",
    "<h2 style=\"color:green\">Components of Machine Learning</h2>"
   ]
  },
  {
   "cell_type": "markdown",
   "metadata": {},
   "source": [
    "### ML experts develop thousands of ML algorithms every year. Below mentioned are the three vital components that every algorithm has:\n",
    "\n",
    "## 1. Representation\n",
    "### It includes the selection of a model that represents data. ***Decision trees***, instances, set of rules, etc are some examples of this component. A decision tree is a tree-like model comprising of various decisions and their consequences. Instance-based learning occurs when the machine compares new problems with previously occurred instances.\n",
    "## 2. Evaluation\n",
    "### Evaluation is that component which provides the machine to evaluate and optimize hypotheses (candidate programs). It is also known as objective, utility, or scoring function. Some examples of evaluation are accuracy, squared error, posterior probability, etc. Accuracy basically measures or evaluates classification models. Posterior probability is that probability which arises upon taking into account updated information.\n",
    "\n",
    "## 3. Optimization\n",
    "### Optimization is the way in which hypotheses are generated. Examples of optimization include combinatorial optimization, convex optimization, and constrained optimization. Combinatorial optimization uses combinatorial techniques to solve discrete combination problems."
   ]
  },
  {
   "cell_type": "markdown",
   "metadata": {},
   "source": [
    "---\n",
    "<h1 style=\"color:red\">Types of Machine Learning</h1>"
   ]
  },
  {
   "cell_type": "markdown",
   "metadata": {},
   "source": [
    "---\n",
    "<img src=\"images/1.jpg\">"
   ]
  },
  {
   "cell_type": "code",
   "execution_count": null,
   "metadata": {},
   "outputs": [],
   "source": []
  },
  {
   "cell_type": "markdown",
   "metadata": {},
   "source": [
    "---\n",
    "<img src=\"images/2.png\">"
   ]
  },
  {
   "cell_type": "code",
   "execution_count": null,
   "metadata": {},
   "outputs": [],
   "source": []
  },
  {
   "cell_type": "markdown",
   "metadata": {},
   "source": [
    "---\n",
    "<img src=\"images/3.jpg\">"
   ]
  },
  {
   "cell_type": "code",
   "execution_count": null,
   "metadata": {},
   "outputs": [],
   "source": []
  },
  {
   "cell_type": "markdown",
   "metadata": {},
   "source": [
    "---\n",
    "<img src=\"images/4.png\">"
   ]
  },
  {
   "cell_type": "code",
   "execution_count": null,
   "metadata": {},
   "outputs": [],
   "source": []
  },
  {
   "cell_type": "markdown",
   "metadata": {},
   "source": [
    "---\n",
    "<img src=\"images/5.png\">"
   ]
  },
  {
   "cell_type": "code",
   "execution_count": null,
   "metadata": {},
   "outputs": [],
   "source": []
  },
  {
   "cell_type": "markdown",
   "metadata": {},
   "source": [
    "---\n",
    "<img src=\"images/6.png\">"
   ]
  },
  {
   "cell_type": "code",
   "execution_count": null,
   "metadata": {},
   "outputs": [],
   "source": []
  },
  {
   "cell_type": "markdown",
   "metadata": {},
   "source": [
    "---\n",
    "<h2 style=\"color:green\">1. Supervised Learning :</h2>\n",
    "\n",
    "### In supervised learning, we have labeled dataset which means that we already know the input and their correspondings output. We train the model using an algorithm that maps the input to their outputs. Here, we try to minimize the error and then we can use new data to predict their outcomes. Supervised learning tasks include classification problems and regression problems."
   ]
  },
  {
   "cell_type": "markdown",
   "metadata": {},
   "source": [
    "\n",
    "<img src=\"images/Supl.jpg\">"
   ]
  },
  {
   "cell_type": "code",
   "execution_count": null,
   "metadata": {},
   "outputs": [],
   "source": []
  },
  {
   "cell_type": "markdown",
   "metadata": {},
   "source": [
    "<h2 style=\"color:green\">2. Unsupervised Learning</h2>\n",
    "    \n",
    "### The unsupervised learning technique is used when we don’t have labeled data. So the machine only knows input data and it has to act on the information without any guidance or output data. Therefore the machine is restricted to find hidden patterns and similarities within input data. Unsupervised learning is used for clustering and association problems."
   ]
  },
  {
   "cell_type": "markdown",
   "metadata": {},
   "source": [
    "<img src=\"images/unsupl.png\">"
   ]
  },
  {
   "cell_type": "code",
   "execution_count": null,
   "metadata": {},
   "outputs": [],
   "source": []
  },
  {
   "cell_type": "markdown",
   "metadata": {},
   "source": [
    "<h2 style=\"color:green\">3. Semi-Supervised Learning</h2>\n",
    "\n",
    "### Labeled data are expensive and hard to find when the problem you are working on is not so common. In semi-supervised learning, we use some amount of labeled data with unlabelled data. The models accuracy of an unlabelled data can be increased by using some of the labeled data."
   ]
  },
  {
   "cell_type": "markdown",
   "metadata": {},
   "source": [
    "<img src=\"images/ssupl.png\">"
   ]
  },
  {
   "cell_type": "code",
   "execution_count": null,
   "metadata": {},
   "outputs": [],
   "source": []
  },
  {
   "cell_type": "markdown",
   "metadata": {},
   "source": [
    "<h2 style=\"color:green\">4. Reinforcement Learning</h2>\n",
    "\n",
    "### In Reinforcement learning, the machine uses previous data to evolve and learn. It uses rewards and punishments to train the algorithm by taking positive rewards for good decisions and negative rewards for bad decisions. This learning doesn’t require a dataset to train. It’s a self-sustained system that learns to improve itself from the real-world environment."
   ]
  },
  {
   "cell_type": "markdown",
   "metadata": {},
   "source": [
    "<img src=\"images/reinl.jpg\">"
   ]
  },
  {
   "cell_type": "code",
   "execution_count": null,
   "metadata": {},
   "outputs": [],
   "source": []
  },
  {
   "cell_type": "markdown",
   "metadata": {},
   "source": [
    "---\n",
    "<h1 style=\"color:red\">Example of Machine Learning application in Artificial Intelligence</h1>"
   ]
  },
  {
   "cell_type": "markdown",
   "metadata": {},
   "source": [
    "### There is no denying that Cortana, a virtual assistant developed by Microsoft for Windows 10, is the result of progress in AI. It functions exactly like Siri or the Google Assistant. Cortana helps you find information on everything when requested using voice- even questions like What will the weather be like tomorrow? Or it even does any calculations for you. It also performs particular functions or commands other applications to perform an activity (setting an alarm, placing calls).\n",
    "\n",
    "### AI is an integral part of this assistant, as it gathers data on the basis of user interaction and then provides customized results.\n",
    "\n",
    "### But there’s more to Cortana than just answering questions. Microsoft claims that with each interaction, Cortana constantly keeps learning about its users, and tries to anticipate the requirements of the users. Which means that it constantly uses machine learning to intelligently operate to cater to the user’s needs."
   ]
  },
  {
   "cell_type": "code",
   "execution_count": null,
   "metadata": {},
   "outputs": [],
   "source": []
  },
  {
   "cell_type": "markdown",
   "metadata": {},
   "source": [
    "---\n",
    "<h1 style=\"color:red\">Difference between AI and Machine Learning</h1>"
   ]
  },
  {
   "cell_type": "markdown",
   "metadata": {},
   "source": [
    "<img src=\"images/ml ai.jpeg\">"
   ]
  },
  {
   "cell_type": "code",
   "execution_count": null,
   "metadata": {},
   "outputs": [],
   "source": []
  },
  {
   "cell_type": "markdown",
   "metadata": {},
   "source": [
    "<img src=\"images/ml Al.png\">"
   ]
  },
  {
   "cell_type": "markdown",
   "metadata": {},
   "source": [
    "### AI and ML sound so different, but in reality, it can cause confusion. Machine Learning is an application of AI which implies that with sufficient progress, machines can learn and enhance with each user interaction. Artificial Intelligence is a more extensive concept involving the ability of machines to carry out a variety of tasks."
   ]
  },
  {
   "cell_type": "markdown",
   "metadata": {},
   "source": [
    "---\n",
    "<h1 style=\"color:red\">Summary</h1>"
   ]
  },
  {
   "cell_type": "markdown",
   "metadata": {},
   "source": [
    "### I believe it is clear now that Artificial Intelligence is like an umbrella that houses Machine Learning, along with other concepts. AI is more like a study aimed at training computers to simplify and automate tasks, whereas ML induces a machine to learn on its own."
   ]
  },
  {
   "cell_type": "code",
   "execution_count": null,
   "metadata": {},
   "outputs": [],
   "source": []
  }
 ],
 "metadata": {
  "kernelspec": {
   "display_name": "Python 3",
   "language": "python",
   "name": "python3"
  },
  "language_info": {
   "codemirror_mode": {
    "name": "ipython",
    "version": 3
   },
   "file_extension": ".py",
   "mimetype": "text/x-python",
   "name": "python",
   "nbconvert_exporter": "python",
   "pygments_lexer": "ipython3",
   "version": "3.6.8"
  }
 },
 "nbformat": 4,
 "nbformat_minor": 4
}
